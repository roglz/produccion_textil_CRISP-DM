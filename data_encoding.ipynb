{
 "cells": [
  {
   "cell_type": "code",
   "execution_count": 16,
   "metadata": {},
   "outputs": [],
   "source": [
    "import pandas as pd\n",
    "import numpy as np\n",
    "from sklearn import preprocessing"
   ]
  },
  {
   "cell_type": "code",
   "execution_count": 9,
   "metadata": {},
   "outputs": [
    {
     "data": {
      "text/plain": [
       "DATES                  object\n",
       "DEPARTMENT             object\n",
       "TEAM                    int64\n",
       "SMV                   float64\n",
       "WIP                     int64\n",
       "OVER_TIME               int64\n",
       "INCENTIVE               int64\n",
       "IDLE_TIME               int64\n",
       "IDLE_MEN                int64\n",
       "NO_OF_STYLE_CHANGE      int64\n",
       "NO_OF_WORKERS         float64\n",
       "RATIO                 float64\n",
       "dtype: object"
      ]
     },
     "execution_count": 9,
     "metadata": {},
     "output_type": "execute_result"
    }
   ],
   "source": [
    "dir = r\"C:\\Users\\ivang\\Desktop\\data\\intr-ciencia-datos\\produccion_textil_CRISP-DM\\data\\tidy_data.csv\"\n",
    "data = pd.read_csv(dir)\n",
    "data.dtypes"
   ]
  },
  {
   "cell_type": "code",
   "execution_count": 11,
   "metadata": {},
   "outputs": [
    {
     "data": {
      "text/plain": [
       "DATES                 datetime64[ns]\n",
       "DEPARTMENT                    object\n",
       "TEAM                           int64\n",
       "SMV                          float64\n",
       "WIP                            int64\n",
       "OVER_TIME                      int64\n",
       "INCENTIVE                      int64\n",
       "IDLE_TIME                      int64\n",
       "IDLE_MEN                       int64\n",
       "NO_OF_STYLE_CHANGE             int64\n",
       "NO_OF_WORKERS                float64\n",
       "RATIO                        float64\n",
       "dtype: object"
      ]
     },
     "execution_count": 11,
     "metadata": {},
     "output_type": "execute_result"
    }
   ],
   "source": [
    "data[\"DATES\"] = pd.to_datetime(data[\"DATES\"], format=\"%d/%m/%Y\")\n",
    "data.dtypes"
   ]
  },
  {
   "cell_type": "code",
   "execution_count": 14,
   "metadata": {},
   "outputs": [
    {
     "data": {
      "text/html": [
       "<div>\n",
       "<style scoped>\n",
       "    .dataframe tbody tr th:only-of-type {\n",
       "        vertical-align: middle;\n",
       "    }\n",
       "\n",
       "    .dataframe tbody tr th {\n",
       "        vertical-align: top;\n",
       "    }\n",
       "\n",
       "    .dataframe thead th {\n",
       "        text-align: right;\n",
       "    }\n",
       "</style>\n",
       "<table border=\"1\" class=\"dataframe\">\n",
       "  <thead>\n",
       "    <tr style=\"text-align: right;\">\n",
       "      <th></th>\n",
       "      <th>DATES</th>\n",
       "      <th>TEAM</th>\n",
       "      <th>DEP_sweing</th>\n",
       "      <th>SMV</th>\n",
       "      <th>WIP</th>\n",
       "      <th>OVER_TIME</th>\n",
       "      <th>INCENTIVE</th>\n",
       "      <th>IDLE_TIME</th>\n",
       "      <th>IDLE_MEN</th>\n",
       "      <th>NO_OF_STYLE_CHANGE</th>\n",
       "      <th>NO_OF_WORKERS</th>\n",
       "      <th>RATIO</th>\n",
       "    </tr>\n",
       "  </thead>\n",
       "  <tbody>\n",
       "    <tr>\n",
       "      <th>0</th>\n",
       "      <td>2015-01-01</td>\n",
       "      <td>8</td>\n",
       "      <td>1</td>\n",
       "      <td>26.16</td>\n",
       "      <td>1108</td>\n",
       "      <td>7080</td>\n",
       "      <td>98</td>\n",
       "      <td>0</td>\n",
       "      <td>0</td>\n",
       "      <td>0</td>\n",
       "      <td>59.0</td>\n",
       "      <td>1.1759</td>\n",
       "    </tr>\n",
       "    <tr>\n",
       "      <th>1</th>\n",
       "      <td>2015-01-01</td>\n",
       "      <td>1</td>\n",
       "      <td>0</td>\n",
       "      <td>3.94</td>\n",
       "      <td>0</td>\n",
       "      <td>960</td>\n",
       "      <td>0</td>\n",
       "      <td>0</td>\n",
       "      <td>0</td>\n",
       "      <td>0</td>\n",
       "      <td>8.0</td>\n",
       "      <td>1.1820</td>\n",
       "    </tr>\n",
       "    <tr>\n",
       "      <th>2</th>\n",
       "      <td>2015-01-01</td>\n",
       "      <td>11</td>\n",
       "      <td>1</td>\n",
       "      <td>11.41</td>\n",
       "      <td>968</td>\n",
       "      <td>3660</td>\n",
       "      <td>50</td>\n",
       "      <td>0</td>\n",
       "      <td>0</td>\n",
       "      <td>0</td>\n",
       "      <td>30.5</td>\n",
       "      <td>1.0007</td>\n",
       "    </tr>\n",
       "    <tr>\n",
       "      <th>3</th>\n",
       "      <td>2015-01-01</td>\n",
       "      <td>12</td>\n",
       "      <td>1</td>\n",
       "      <td>11.41</td>\n",
       "      <td>968</td>\n",
       "      <td>3660</td>\n",
       "      <td>50</td>\n",
       "      <td>0</td>\n",
       "      <td>0</td>\n",
       "      <td>0</td>\n",
       "      <td>30.5</td>\n",
       "      <td>1.0007</td>\n",
       "    </tr>\n",
       "    <tr>\n",
       "      <th>4</th>\n",
       "      <td>2015-01-01</td>\n",
       "      <td>6</td>\n",
       "      <td>1</td>\n",
       "      <td>25.90</td>\n",
       "      <td>1170</td>\n",
       "      <td>1920</td>\n",
       "      <td>50</td>\n",
       "      <td>0</td>\n",
       "      <td>0</td>\n",
       "      <td>0</td>\n",
       "      <td>56.0</td>\n",
       "      <td>1.0005</td>\n",
       "    </tr>\n",
       "  </tbody>\n",
       "</table>\n",
       "</div>"
      ],
      "text/plain": [
       "       DATES  TEAM  DEP_sweing    SMV   WIP  OVER_TIME  INCENTIVE  IDLE_TIME  \\\n",
       "0 2015-01-01     8           1  26.16  1108       7080         98          0   \n",
       "1 2015-01-01     1           0   3.94     0        960          0          0   \n",
       "2 2015-01-01    11           1  11.41   968       3660         50          0   \n",
       "3 2015-01-01    12           1  11.41   968       3660         50          0   \n",
       "4 2015-01-01     6           1  25.90  1170       1920         50          0   \n",
       "\n",
       "   IDLE_MEN  NO_OF_STYLE_CHANGE  NO_OF_WORKERS   RATIO  \n",
       "0         0                   0           59.0  1.1759  \n",
       "1         0                   0            8.0  1.1820  \n",
       "2         0                   0           30.5  1.0007  \n",
       "3         0                   0           30.5  1.0007  \n",
       "4         0                   0           56.0  1.0005  "
      ]
     },
     "execution_count": 14,
     "metadata": {},
     "output_type": "execute_result"
    }
   ],
   "source": [
    "data_onehot = data.copy(deep=True)\n",
    "data_onehot = pd.get_dummies(data_onehot, columns=['DEPARTMENT'], prefix = ['DEP'])\n",
    "data_onehot = data_onehot.drop(columns= \"DEP_finishing\")\n",
    "data_onehot = data_onehot[\"DATES TEAM DEP_sweing SMV WIP OVER_TIME INCENTIVE IDLE_TIME\\\n",
    "    IDLE_MEN NO_OF_STYLE_CHANGE NO_OF_WORKERS RATIO\".split()]\n",
    "data_onehot.head()"
   ]
  },
  {
   "cell_type": "code",
   "execution_count": 28,
   "metadata": {},
   "outputs": [
    {
     "ename": "TypeError",
     "evalue": "__init__() takes 1 positional argument but 2 were given",
     "output_type": "error",
     "traceback": [
      "\u001b[1;31m---------------------------------------------------------------------------\u001b[0m",
      "\u001b[1;31mTypeError\u001b[0m                                 Traceback (most recent call last)",
      "Cell \u001b[1;32mIn [28], line 4\u001b[0m\n\u001b[0;32m      2\u001b[0m \u001b[38;5;28;01mfor\u001b[39;00m column \u001b[38;5;129;01min\u001b[39;00m \u001b[38;5;28mlist\u001b[39m(data_scaled):\n\u001b[0;32m      3\u001b[0m     \u001b[38;5;28;01mif\u001b[39;00m column \u001b[38;5;241m!=\u001b[39m \u001b[38;5;124m\"\u001b[39m\u001b[38;5;124mDATES\u001b[39m\u001b[38;5;124m\"\u001b[39m \u001b[38;5;129;01mand\u001b[39;00m column \u001b[38;5;241m!=\u001b[39m \u001b[38;5;124m\"\u001b[39m\u001b[38;5;124mDEP_sweing\u001b[39m\u001b[38;5;124m\"\u001b[39m:\n\u001b[1;32m----> 4\u001b[0m         data_scaled[column] \u001b[38;5;241m=\u001b[39m \u001b[43mpreprocessing\u001b[49m\u001b[38;5;241;43m.\u001b[39;49m\u001b[43mStandardScaler\u001b[49m\u001b[43m(\u001b[49m\u001b[43mdata_scaled\u001b[49m\u001b[43m[\u001b[49m\u001b[43mcolumn\u001b[49m\u001b[43m]\u001b[49m\u001b[43m)\u001b[49m\n",
      "\u001b[1;31mTypeError\u001b[0m: __init__() takes 1 positional argument but 2 were given"
     ]
    }
   ],
   "source": [
    "data_scaled = data_onehot.copy(deep=True)\n",
    "for column in list(data_scaled):\n",
    "    if column != \"DATES\" and column != \"DEP_sweing\":\n",
    "        data_scaled[column] = preprocessing.StandardScaler(data_scaled[column])"
   ]
  }
 ],
 "metadata": {
  "kernelspec": {
   "display_name": "Python 3.9.2 64-bit",
   "language": "python",
   "name": "python3"
  },
  "language_info": {
   "codemirror_mode": {
    "name": "ipython",
    "version": 3
   },
   "file_extension": ".py",
   "mimetype": "text/x-python",
   "name": "python",
   "nbconvert_exporter": "python",
   "pygments_lexer": "ipython3",
   "version": "3.9.2"
  },
  "orig_nbformat": 4,
  "vscode": {
   "interpreter": {
    "hash": "512097388dd31efd792da3c4a3c1e25cd549a423bd92cf1fb77821488595fd6b"
   }
  }
 },
 "nbformat": 4,
 "nbformat_minor": 2
}
