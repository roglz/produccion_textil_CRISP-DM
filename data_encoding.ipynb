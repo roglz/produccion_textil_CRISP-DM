{
 "cells": [
  {
   "cell_type": "code",
   "execution_count": 16,
   "metadata": {},
   "outputs": [],
   "source": [
    "import pandas as pd\n",
    "import numpy as np\n",
    "from sklearn import preprocessing"
   ]
  },
  {
   "cell_type": "code",
   "execution_count": 9,
   "metadata": {},
   "outputs": [
    {
     "data": {
      "text/plain": [
       "DATES                  object\n",
       "DEPARTMENT             object\n",
       "TEAM                    int64\n",
       "SMV                   float64\n",
       "WIP                     int64\n",
       "OVER_TIME               int64\n",
       "INCENTIVE               int64\n",
       "IDLE_TIME               int64\n",
       "IDLE_MEN                int64\n",
       "NO_OF_STYLE_CHANGE      int64\n",
       "NO_OF_WORKERS         float64\n",
       "RATIO                 float64\n",
       "dtype: object"
      ]
     },
     "execution_count": 9,
     "metadata": {},
     "output_type": "execute_result"
    }
   ],
   "source": [
    "dir = r\"C:\\Users\\ivang\\Desktop\\data\\intr-ciencia-datos\\produccion_textil_CRISP-DM\\data\\tidy_data.csv\"\n",
    "data = pd.read_csv(dir)\n",
    "data.dtypes"
   ]
  },
  {
   "cell_type": "code",
   "execution_count": 11,
   "metadata": {},
   "outputs": [
    {
     "data": {
      "text/plain": [
       "DATES                 datetime64[ns]\n",
       "DEPARTMENT                    object\n",
       "TEAM                           int64\n",
       "SMV                          float64\n",
       "WIP                            int64\n",
       "OVER_TIME                      int64\n",
       "INCENTIVE                      int64\n",
       "IDLE_TIME                      int64\n",
       "IDLE_MEN                       int64\n",
       "NO_OF_STYLE_CHANGE             int64\n",
       "NO_OF_WORKERS                float64\n",
       "RATIO                        float64\n",
       "dtype: object"
      ]
     },
     "execution_count": 11,
     "metadata": {},
     "output_type": "execute_result"
    }
   ],
   "source": [
    "data[\"DATES\"] = pd.to_datetime(data[\"DATES\"], format=\"%d/%m/%Y\")\n",
    "data.dtypes"
   ]
  },
  {
   "cell_type": "code",
   "execution_count": 34,
   "metadata": {},
   "outputs": [
    {
     "name": "stdout",
     "output_type": "stream",
     "text": [
      "120.0\n"
     ]
    }
   ],
   "source": [
    "data_onehot = data.copy(deep=True)\n",
    "data_onehot = pd.get_dummies(data_onehot, columns=['DEPARTMENT'], prefix = ['DEP'])\n",
    "data_onehot = data_onehot.drop(columns= \"DEP_finishing\")\n",
    "data_onehot = data_onehot[\"DATES TEAM DEP_sweing SMV WIP OVER_TIME INCENTIVE IDLE_TIME\\\n",
    "    IDLE_MEN NO_OF_STYLE_CHANGE NO_OF_WORKERS RATIO\".split()]\n",
    "data_onehot.head()\n",
    "print(data_onehot.loc[0,\"OVER_TIME\"]/data_onehot.loc[0,\"NO_OF_WORKERS\"])"
   ]
  },
  {
   "cell_type": "code",
   "execution_count": 36,
   "metadata": {},
   "outputs": [
    {
     "data": {
      "text/html": [
       "<div>\n",
       "<style scoped>\n",
       "    .dataframe tbody tr th:only-of-type {\n",
       "        vertical-align: middle;\n",
       "    }\n",
       "\n",
       "    .dataframe tbody tr th {\n",
       "        vertical-align: top;\n",
       "    }\n",
       "\n",
       "    .dataframe thead th {\n",
       "        text-align: right;\n",
       "    }\n",
       "</style>\n",
       "<table border=\"1\" class=\"dataframe\">\n",
       "  <thead>\n",
       "    <tr style=\"text-align: right;\">\n",
       "      <th></th>\n",
       "      <th>DATES</th>\n",
       "      <th>TEAM</th>\n",
       "      <th>DEP_sweing</th>\n",
       "      <th>SMV</th>\n",
       "      <th>WIP</th>\n",
       "      <th>OVER_TIME</th>\n",
       "      <th>INCENTIVE</th>\n",
       "      <th>IDLE_TIME</th>\n",
       "      <th>IDLE_MEN</th>\n",
       "      <th>NO_OF_STYLE_CHANGE</th>\n",
       "      <th>NO_OF_WORKERS</th>\n",
       "      <th>RATIO</th>\n",
       "    </tr>\n",
       "  </thead>\n",
       "  <tbody>\n",
       "    <tr>\n",
       "      <th>0</th>\n",
       "      <td>2015-01-01</td>\n",
       "      <td>0.636364</td>\n",
       "      <td>1</td>\n",
       "      <td>0.450252</td>\n",
       "      <td>0.047920</td>\n",
       "      <td>0.273148</td>\n",
       "      <td>0.027222</td>\n",
       "      <td>0.0</td>\n",
       "      <td>0.0</td>\n",
       "      <td>0.0</td>\n",
       "      <td>0.655172</td>\n",
       "      <td>0.122469</td>\n",
       "    </tr>\n",
       "    <tr>\n",
       "      <th>1</th>\n",
       "      <td>2015-01-01</td>\n",
       "      <td>0.000000</td>\n",
       "      <td>0</td>\n",
       "      <td>0.020132</td>\n",
       "      <td>0.000000</td>\n",
       "      <td>0.037037</td>\n",
       "      <td>0.000000</td>\n",
       "      <td>0.0</td>\n",
       "      <td>0.0</td>\n",
       "      <td>0.0</td>\n",
       "      <td>0.068966</td>\n",
       "      <td>0.123320</td>\n",
       "    </tr>\n",
       "    <tr>\n",
       "      <th>2</th>\n",
       "      <td>2015-01-01</td>\n",
       "      <td>0.909091</td>\n",
       "      <td>1</td>\n",
       "      <td>0.164731</td>\n",
       "      <td>0.041865</td>\n",
       "      <td>0.141204</td>\n",
       "      <td>0.013889</td>\n",
       "      <td>0.0</td>\n",
       "      <td>0.0</td>\n",
       "      <td>0.0</td>\n",
       "      <td>0.327586</td>\n",
       "      <td>0.098039</td>\n",
       "    </tr>\n",
       "    <tr>\n",
       "      <th>3</th>\n",
       "      <td>2015-01-01</td>\n",
       "      <td>1.000000</td>\n",
       "      <td>1</td>\n",
       "      <td>0.164731</td>\n",
       "      <td>0.041865</td>\n",
       "      <td>0.141204</td>\n",
       "      <td>0.013889</td>\n",
       "      <td>0.0</td>\n",
       "      <td>0.0</td>\n",
       "      <td>0.0</td>\n",
       "      <td>0.327586</td>\n",
       "      <td>0.098039</td>\n",
       "    </tr>\n",
       "    <tr>\n",
       "      <th>4</th>\n",
       "      <td>2015-01-01</td>\n",
       "      <td>0.454545</td>\n",
       "      <td>1</td>\n",
       "      <td>0.445219</td>\n",
       "      <td>0.050601</td>\n",
       "      <td>0.074074</td>\n",
       "      <td>0.013889</td>\n",
       "      <td>0.0</td>\n",
       "      <td>0.0</td>\n",
       "      <td>0.0</td>\n",
       "      <td>0.620690</td>\n",
       "      <td>0.098012</td>\n",
       "    </tr>\n",
       "  </tbody>\n",
       "</table>\n",
       "</div>"
      ],
      "text/plain": [
       "       DATES      TEAM  DEP_sweing       SMV       WIP  OVER_TIME  INCENTIVE  \\\n",
       "0 2015-01-01  0.636364           1  0.450252  0.047920   0.273148   0.027222   \n",
       "1 2015-01-01  0.000000           0  0.020132  0.000000   0.037037   0.000000   \n",
       "2 2015-01-01  0.909091           1  0.164731  0.041865   0.141204   0.013889   \n",
       "3 2015-01-01  1.000000           1  0.164731  0.041865   0.141204   0.013889   \n",
       "4 2015-01-01  0.454545           1  0.445219  0.050601   0.074074   0.013889   \n",
       "\n",
       "   IDLE_TIME  IDLE_MEN  NO_OF_STYLE_CHANGE  NO_OF_WORKERS     RATIO  \n",
       "0        0.0       0.0                 0.0       0.655172  0.122469  \n",
       "1        0.0       0.0                 0.0       0.068966  0.123320  \n",
       "2        0.0       0.0                 0.0       0.327586  0.098039  \n",
       "3        0.0       0.0                 0.0       0.327586  0.098039  \n",
       "4        0.0       0.0                 0.0       0.620690  0.098012  "
      ]
     },
     "execution_count": 36,
     "metadata": {},
     "output_type": "execute_result"
    }
   ],
   "source": [
    "data_scaled = data_onehot.copy(deep=True)\n",
    "for column in list(data_scaled):\n",
    "    if column != \"DATES\" and column != \"DEP_sweing\":\n",
    "        data_scaled[column] = preprocessing.MinMaxScaler().fit_transform( #StandardScaler\n",
    "            data_scaled[column].values.reshape(-1,1))\n",
    "data_scaled.head()"
   ]
  }
 ],
 "metadata": {
  "kernelspec": {
   "display_name": "Python 3.9.2 64-bit",
   "language": "python",
   "name": "python3"
  },
  "language_info": {
   "codemirror_mode": {
    "name": "ipython",
    "version": 3
   },
   "file_extension": ".py",
   "mimetype": "text/x-python",
   "name": "python",
   "nbconvert_exporter": "python",
   "pygments_lexer": "ipython3",
   "version": "3.9.2"
  },
  "orig_nbformat": 4,
  "vscode": {
   "interpreter": {
    "hash": "512097388dd31efd792da3c4a3c1e25cd549a423bd92cf1fb77821488595fd6b"
   }
  }
 },
 "nbformat": 4,
 "nbformat_minor": 2
}
