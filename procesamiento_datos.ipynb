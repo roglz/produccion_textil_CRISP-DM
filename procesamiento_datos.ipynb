{
 "cells": [
  {
   "cell_type": "code",
   "execution_count": 103,
   "metadata": {},
   "outputs": [],
   "source": [
    "import pandas as pd\n",
    "import numpy as np"
   ]
  },
  {
   "cell_type": "markdown",
   "metadata": {},
   "source": [
    "Cargamos nuestro dataset preprocesado"
   ]
  },
  {
   "cell_type": "code",
   "execution_count": 104,
   "metadata": {},
   "outputs": [
    {
     "data": {
      "text/plain": [
       "Index(['FECHA', 'DEPARTMENT', 'TEAM', 'TARGETED_PRODUCTIVITY', 'SMV', 'WIP',\n",
       "       'OVER_TIME', 'INCENTIVE', 'IDLE_TIME', 'IDLE_MEN', 'NO_OF_STYLE_CHANGE',\n",
       "       'NO_OF_WORKERS', 'ACTUAL_PRODUCTIVITY'],\n",
       "      dtype='object')"
      ]
     },
     "execution_count": 104,
     "metadata": {},
     "output_type": "execute_result"
    }
   ],
   "source": [
    "dir = r\"D:\\Fernando\\Escritorio\\CRISP-DM\\produccion_textil_CRISP-DM\\data\\dataset_preprocessed.csv\"\n",
    "data = pd.read_csv(dir)\n",
    "data.columns"
   ]
  },
  {
   "cell_type": "markdown",
   "metadata": {},
   "source": [
    "De nuestro análisis previo hemos decidido quitar las columnas \"DATE\" y \"QUARTER\""
   ]
  },
  {
   "cell_type": "code",
   "execution_count": 105,
   "metadata": {},
   "outputs": [
    {
     "name": "stdout",
     "output_type": "stream",
     "text": [
      "     DEPARTMENT  TEAM  TARGETED_PRODUCTIVITY    SMV   WIP  OVER_TIME  \\\n",
      "0     finishing     1                   0.75   3.94     0        960   \n",
      "1        sweing     1                   0.75  28.08   681       6900   \n",
      "2     finishing     2                   0.75   3.94     0        960   \n",
      "3        sweing     2                   0.75  19.87   733       6000   \n",
      "4        sweing     3                   0.75  28.08   795       6900   \n",
      "...         ...   ...                    ...    ...   ...        ...   \n",
      "1192     sweing    10                   0.75  21.82  1674       6000   \n",
      "1193  finishing    11                   0.80   2.90     0       2400   \n",
      "1194     sweing    11                   0.80  11.41   560       3420   \n",
      "1195  finishing    12                   0.80   4.60     0       2160   \n",
      "1196     sweing    12                   0.80  15.26   470       4080   \n",
      "\n",
      "      INCENTIVE  IDLE_TIME  IDLE_MEN  NO_OF_STYLE_CHANGE  NO_OF_WORKERS  \\\n",
      "0             0          0         0                   0            8.0   \n",
      "1            45          0         0                   0           57.5   \n",
      "2             0          0         0                   0            8.0   \n",
      "3            34          0         0                   0           55.0   \n",
      "4            45          0         0                   0           57.5   \n",
      "...         ...        ...       ...                 ...            ...   \n",
      "1192         34          0         0                   0           50.0   \n",
      "1193          0          0         0                   0           10.0   \n",
      "1194         50          0         0                   0           58.0   \n",
      "1195          0          0         0                   0            9.0   \n",
      "1196         63          0         0                   0           34.0   \n",
      "\n",
      "      ACTUAL_PRODUCTIVITY  \n",
      "0                0.886500  \n",
      "1                0.750428  \n",
      "2                0.755167  \n",
      "3                0.753098  \n",
      "4                0.753683  \n",
      "...                   ...  \n",
      "1192             0.750608  \n",
      "1193             0.874028  \n",
      "1194             0.800035  \n",
      "1195             0.922840  \n",
      "1196             0.800402  \n",
      "\n",
      "[1197 rows x 12 columns]\n"
     ]
    }
   ],
   "source": [
    "data1 = data.drop(columns=['FECHA'])\n",
    "print(data1)"
   ]
  },
  {
   "cell_type": "markdown",
   "metadata": {},
   "source": [
    "Rellenamos los valores nulos"
   ]
  },
  {
   "cell_type": "code",
   "execution_count": 106,
   "metadata": {},
   "outputs": [],
   "source": [
    "data2 = data1.fillna({\n",
    "        'WIP': 0,\n",
    "        })"
   ]
  },
  {
   "cell_type": "code",
   "execution_count": 107,
   "metadata": {},
   "outputs": [
    {
     "data": {
      "text/plain": [
       "DEPARTMENT               0\n",
       "TEAM                     0\n",
       "TARGETED_PRODUCTIVITY    0\n",
       "SMV                      0\n",
       "WIP                      0\n",
       "OVER_TIME                0\n",
       "INCENTIVE                0\n",
       "IDLE_TIME                0\n",
       "IDLE_MEN                 0\n",
       "NO_OF_STYLE_CHANGE       0\n",
       "NO_OF_WORKERS            0\n",
       "ACTUAL_PRODUCTIVITY      0\n",
       "dtype: int64"
      ]
     },
     "execution_count": 107,
     "metadata": {},
     "output_type": "execute_result"
    }
   ],
   "source": [
    "data2.isnull().sum()"
   ]
  },
  {
   "cell_type": "markdown",
   "metadata": {},
   "source": [
    "Removemos nuestros outliers para la columna \"TARGETED_PRODUCTIVITY\""
   ]
  },
  {
   "cell_type": "code",
   "execution_count": 108,
   "metadata": {},
   "outputs": [
    {
     "data": {
      "text/plain": [
       "(0.7, 0.8)"
      ]
     },
     "execution_count": 108,
     "metadata": {},
     "output_type": "execute_result"
    }
   ],
   "source": [
    "Q1 = data2.TARGETED_PRODUCTIVITY.quantile(0.25)\n",
    "Q3 = data2.TARGETED_PRODUCTIVITY.quantile(0.75)\n",
    "Q1, Q3"
   ]
  },
  {
   "cell_type": "code",
   "execution_count": 109,
   "metadata": {},
   "outputs": [
    {
     "data": {
      "text/plain": [
       "0.1"
      ]
     },
     "execution_count": 109,
     "metadata": {},
     "output_type": "execute_result"
    }
   ],
   "source": [
    "IQR = Q3 - Q1\n",
    "round(IQR, 4)"
   ]
  },
  {
   "cell_type": "code",
   "execution_count": 110,
   "metadata": {},
   "outputs": [
    {
     "data": {
      "text/plain": [
       "(0.55, 0.95)"
      ]
     },
     "execution_count": 110,
     "metadata": {},
     "output_type": "execute_result"
    }
   ],
   "source": [
    "lower_limit = Q1 - 1.5*IQR\n",
    "upper_limit = Q3 + 1.5*IQR\n",
    "round(lower_limit, 4), round(upper_limit, 4)"
   ]
  },
  {
   "cell_type": "code",
   "execution_count": 111,
   "metadata": {},
   "outputs": [
    {
     "data": {
      "text/html": [
       "<div>\n",
       "<style scoped>\n",
       "    .dataframe tbody tr th:only-of-type {\n",
       "        vertical-align: middle;\n",
       "    }\n",
       "\n",
       "    .dataframe tbody tr th {\n",
       "        vertical-align: top;\n",
       "    }\n",
       "\n",
       "    .dataframe thead th {\n",
       "        text-align: right;\n",
       "    }\n",
       "</style>\n",
       "<table border=\"1\" class=\"dataframe\">\n",
       "  <thead>\n",
       "    <tr style=\"text-align: right;\">\n",
       "      <th></th>\n",
       "      <th>DEPARTMENT</th>\n",
       "      <th>TEAM</th>\n",
       "      <th>TARGETED_PRODUCTIVITY</th>\n",
       "      <th>SMV</th>\n",
       "      <th>WIP</th>\n",
       "      <th>OVER_TIME</th>\n",
       "      <th>INCENTIVE</th>\n",
       "      <th>IDLE_TIME</th>\n",
       "      <th>IDLE_MEN</th>\n",
       "      <th>NO_OF_STYLE_CHANGE</th>\n",
       "      <th>NO_OF_WORKERS</th>\n",
       "      <th>ACTUAL_PRODUCTIVITY</th>\n",
       "    </tr>\n",
       "  </thead>\n",
       "  <tbody>\n",
       "    <tr>\n",
       "      <th>146</th>\n",
       "      <td>sweing</td>\n",
       "      <td>11</td>\n",
       "      <td>0.35</td>\n",
       "      <td>12.52</td>\n",
       "      <td>287</td>\n",
       "      <td>25920</td>\n",
       "      <td>38</td>\n",
       "      <td>0</td>\n",
       "      <td>0</td>\n",
       "      <td>0</td>\n",
       "      <td>54.0</td>\n",
       "      <td>0.349951</td>\n",
       "    </tr>\n",
       "    <tr>\n",
       "      <th>156</th>\n",
       "      <td>finishing</td>\n",
       "      <td>5</td>\n",
       "      <td>0.50</td>\n",
       "      <td>4.15</td>\n",
       "      <td>0</td>\n",
       "      <td>1440</td>\n",
       "      <td>0</td>\n",
       "      <td>0</td>\n",
       "      <td>0</td>\n",
       "      <td>0</td>\n",
       "      <td>8.0</td>\n",
       "      <td>0.337973</td>\n",
       "    </tr>\n",
       "    <tr>\n",
       "      <th>157</th>\n",
       "      <td>sweing</td>\n",
       "      <td>5</td>\n",
       "      <td>0.50</td>\n",
       "      <td>20.79</td>\n",
       "      <td>966</td>\n",
       "      <td>7680</td>\n",
       "      <td>0</td>\n",
       "      <td>0</td>\n",
       "      <td>0</td>\n",
       "      <td>0</td>\n",
       "      <td>56.0</td>\n",
       "      <td>0.388008</td>\n",
       "    </tr>\n",
       "    <tr>\n",
       "      <th>168</th>\n",
       "      <td>sweing</td>\n",
       "      <td>11</td>\n",
       "      <td>0.50</td>\n",
       "      <td>12.52</td>\n",
       "      <td>749</td>\n",
       "      <td>9540</td>\n",
       "      <td>38</td>\n",
       "      <td>0</td>\n",
       "      <td>0</td>\n",
       "      <td>0</td>\n",
       "      <td>53.0</td>\n",
       "      <td>0.673245</td>\n",
       "    </tr>\n",
       "    <tr>\n",
       "      <th>178</th>\n",
       "      <td>finishing</td>\n",
       "      <td>5</td>\n",
       "      <td>0.50</td>\n",
       "      <td>4.15</td>\n",
       "      <td>0</td>\n",
       "      <td>1440</td>\n",
       "      <td>0</td>\n",
       "      <td>0</td>\n",
       "      <td>0</td>\n",
       "      <td>0</td>\n",
       "      <td>8.0</td>\n",
       "      <td>0.609138</td>\n",
       "    </tr>\n",
       "    <tr>\n",
       "      <th>...</th>\n",
       "      <td>...</td>\n",
       "      <td>...</td>\n",
       "      <td>...</td>\n",
       "      <td>...</td>\n",
       "      <td>...</td>\n",
       "      <td>...</td>\n",
       "      <td>...</td>\n",
       "      <td>...</td>\n",
       "      <td>...</td>\n",
       "      <td>...</td>\n",
       "      <td>...</td>\n",
       "      <td>...</td>\n",
       "    </tr>\n",
       "    <tr>\n",
       "      <th>1097</th>\n",
       "      <td>sweing</td>\n",
       "      <td>6</td>\n",
       "      <td>0.50</td>\n",
       "      <td>23.41</td>\n",
       "      <td>1379</td>\n",
       "      <td>2280</td>\n",
       "      <td>0</td>\n",
       "      <td>0</td>\n",
       "      <td>0</td>\n",
       "      <td>1</td>\n",
       "      <td>39.0</td>\n",
       "      <td>0.500528</td>\n",
       "    </tr>\n",
       "    <tr>\n",
       "      <th>1114</th>\n",
       "      <td>finishing</td>\n",
       "      <td>5</td>\n",
       "      <td>0.50</td>\n",
       "      <td>3.94</td>\n",
       "      <td>0</td>\n",
       "      <td>960</td>\n",
       "      <td>0</td>\n",
       "      <td>0</td>\n",
       "      <td>0</td>\n",
       "      <td>0</td>\n",
       "      <td>8.0</td>\n",
       "      <td>0.857917</td>\n",
       "    </tr>\n",
       "    <tr>\n",
       "      <th>1115</th>\n",
       "      <td>sweing</td>\n",
       "      <td>5</td>\n",
       "      <td>0.50</td>\n",
       "      <td>26.82</td>\n",
       "      <td>711</td>\n",
       "      <td>7080</td>\n",
       "      <td>23</td>\n",
       "      <td>0</td>\n",
       "      <td>0</td>\n",
       "      <td>1</td>\n",
       "      <td>59.0</td>\n",
       "      <td>0.500034</td>\n",
       "    </tr>\n",
       "    <tr>\n",
       "      <th>1139</th>\n",
       "      <td>sweing</td>\n",
       "      <td>7</td>\n",
       "      <td>0.50</td>\n",
       "      <td>30.48</td>\n",
       "      <td>1161</td>\n",
       "      <td>6600</td>\n",
       "      <td>0</td>\n",
       "      <td>0</td>\n",
       "      <td>0</td>\n",
       "      <td>1</td>\n",
       "      <td>55.0</td>\n",
       "      <td>0.500611</td>\n",
       "    </tr>\n",
       "    <tr>\n",
       "      <th>1161</th>\n",
       "      <td>finishing</td>\n",
       "      <td>7</td>\n",
       "      <td>0.50</td>\n",
       "      <td>3.90</td>\n",
       "      <td>0</td>\n",
       "      <td>960</td>\n",
       "      <td>0</td>\n",
       "      <td>0</td>\n",
       "      <td>0</td>\n",
       "      <td>0</td>\n",
       "      <td>8.0</td>\n",
       "      <td>0.560625</td>\n",
       "    </tr>\n",
       "  </tbody>\n",
       "</table>\n",
       "<p>79 rows × 12 columns</p>\n",
       "</div>"
      ],
      "text/plain": [
       "     DEPARTMENT  TEAM  TARGETED_PRODUCTIVITY    SMV   WIP  OVER_TIME  \\\n",
       "146      sweing    11                   0.35  12.52   287      25920   \n",
       "156   finishing     5                   0.50   4.15     0       1440   \n",
       "157      sweing     5                   0.50  20.79   966       7680   \n",
       "168      sweing    11                   0.50  12.52   749       9540   \n",
       "178   finishing     5                   0.50   4.15     0       1440   \n",
       "...         ...   ...                    ...    ...   ...        ...   \n",
       "1097     sweing     6                   0.50  23.41  1379       2280   \n",
       "1114  finishing     5                   0.50   3.94     0        960   \n",
       "1115     sweing     5                   0.50  26.82   711       7080   \n",
       "1139     sweing     7                   0.50  30.48  1161       6600   \n",
       "1161  finishing     7                   0.50   3.90     0        960   \n",
       "\n",
       "      INCENTIVE  IDLE_TIME  IDLE_MEN  NO_OF_STYLE_CHANGE  NO_OF_WORKERS  \\\n",
       "146          38          0         0                   0           54.0   \n",
       "156           0          0         0                   0            8.0   \n",
       "157           0          0         0                   0           56.0   \n",
       "168          38          0         0                   0           53.0   \n",
       "178           0          0         0                   0            8.0   \n",
       "...         ...        ...       ...                 ...            ...   \n",
       "1097          0          0         0                   1           39.0   \n",
       "1114          0          0         0                   0            8.0   \n",
       "1115         23          0         0                   1           59.0   \n",
       "1139          0          0         0                   1           55.0   \n",
       "1161          0          0         0                   0            8.0   \n",
       "\n",
       "      ACTUAL_PRODUCTIVITY  \n",
       "146              0.349951  \n",
       "156              0.337973  \n",
       "157              0.388008  \n",
       "168              0.673245  \n",
       "178              0.609138  \n",
       "...                   ...  \n",
       "1097             0.500528  \n",
       "1114             0.857917  \n",
       "1115             0.500034  \n",
       "1139             0.500611  \n",
       "1161             0.560625  \n",
       "\n",
       "[79 rows x 12 columns]"
      ]
     },
     "execution_count": 111,
     "metadata": {},
     "output_type": "execute_result"
    }
   ],
   "source": [
    "data2[(data2.TARGETED_PRODUCTIVITY<lower_limit)|(data2.TARGETED_PRODUCTIVITY>upper_limit)]"
   ]
  },
  {
   "cell_type": "code",
   "execution_count": 112,
   "metadata": {},
   "outputs": [
    {
     "data": {
      "text/plain": [
       "(1118, 12)"
      ]
     },
     "execution_count": 112,
     "metadata": {},
     "output_type": "execute_result"
    }
   ],
   "source": [
    "data3 = data2[(data2.TARGETED_PRODUCTIVITY>lower_limit)&(data2.TARGETED_PRODUCTIVITY<upper_limit)]\n",
    "data3.shape"
   ]
  },
  {
   "cell_type": "markdown",
   "metadata": {},
   "source": [
    "Removemos nuestros outliers para la columna \"WIP\""
   ]
  },
  {
   "cell_type": "code",
   "execution_count": 113,
   "metadata": {},
   "outputs": [
    {
     "data": {
      "text/plain": [
       "(0.0, 1083.0)"
      ]
     },
     "execution_count": 113,
     "metadata": {},
     "output_type": "execute_result"
    }
   ],
   "source": [
    "Q1 = data3.WIP.quantile(0.25)\n",
    "Q3 = data3.WIP.quantile(0.75)\n",
    "Q1, Q3"
   ]
  },
  {
   "cell_type": "code",
   "execution_count": 114,
   "metadata": {},
   "outputs": [
    {
     "data": {
      "text/plain": [
       "1083.0"
      ]
     },
     "execution_count": 114,
     "metadata": {},
     "output_type": "execute_result"
    }
   ],
   "source": [
    "IQR = Q3 - Q1\n",
    "round(IQR, 4)"
   ]
  },
  {
   "cell_type": "code",
   "execution_count": 115,
   "metadata": {},
   "outputs": [
    {
     "data": {
      "text/plain": [
       "(-1624.5, 2707.5)"
      ]
     },
     "execution_count": 115,
     "metadata": {},
     "output_type": "execute_result"
    }
   ],
   "source": [
    "lower_limit = Q1 - 1.5*IQR\n",
    "upper_limit = Q3 + 1.5*IQR\n",
    "round(lower_limit, 4), round(upper_limit, 4)"
   ]
  },
  {
   "cell_type": "code",
   "execution_count": 116,
   "metadata": {},
   "outputs": [
    {
     "data": {
      "text/html": [
       "<div>\n",
       "<style scoped>\n",
       "    .dataframe tbody tr th:only-of-type {\n",
       "        vertical-align: middle;\n",
       "    }\n",
       "\n",
       "    .dataframe tbody tr th {\n",
       "        vertical-align: top;\n",
       "    }\n",
       "\n",
       "    .dataframe thead th {\n",
       "        text-align: right;\n",
       "    }\n",
       "</style>\n",
       "<table border=\"1\" class=\"dataframe\">\n",
       "  <thead>\n",
       "    <tr style=\"text-align: right;\">\n",
       "      <th></th>\n",
       "      <th>DEPARTMENT</th>\n",
       "      <th>TEAM</th>\n",
       "      <th>TARGETED_PRODUCTIVITY</th>\n",
       "      <th>SMV</th>\n",
       "      <th>WIP</th>\n",
       "      <th>OVER_TIME</th>\n",
       "      <th>INCENTIVE</th>\n",
       "      <th>IDLE_TIME</th>\n",
       "      <th>IDLE_MEN</th>\n",
       "      <th>NO_OF_STYLE_CHANGE</th>\n",
       "      <th>NO_OF_WORKERS</th>\n",
       "      <th>ACTUAL_PRODUCTIVITY</th>\n",
       "    </tr>\n",
       "  </thead>\n",
       "  <tbody>\n",
       "    <tr>\n",
       "      <th>562</th>\n",
       "      <td>sweing</td>\n",
       "      <td>1</td>\n",
       "      <td>0.80</td>\n",
       "      <td>22.94</td>\n",
       "      <td>16882</td>\n",
       "      <td>7020</td>\n",
       "      <td>113</td>\n",
       "      <td>0</td>\n",
       "      <td>0</td>\n",
       "      <td>0</td>\n",
       "      <td>58.5</td>\n",
       "      <td>1.000602</td>\n",
       "    </tr>\n",
       "    <tr>\n",
       "      <th>563</th>\n",
       "      <td>sweing</td>\n",
       "      <td>2</td>\n",
       "      <td>0.80</td>\n",
       "      <td>22.52</td>\n",
       "      <td>21385</td>\n",
       "      <td>7020</td>\n",
       "      <td>88</td>\n",
       "      <td>0</td>\n",
       "      <td>0</td>\n",
       "      <td>0</td>\n",
       "      <td>58.5</td>\n",
       "      <td>0.900158</td>\n",
       "    </tr>\n",
       "    <tr>\n",
       "      <th>564</th>\n",
       "      <td>sweing</td>\n",
       "      <td>3</td>\n",
       "      <td>0.80</td>\n",
       "      <td>22.52</td>\n",
       "      <td>21266</td>\n",
       "      <td>6840</td>\n",
       "      <td>70</td>\n",
       "      <td>0</td>\n",
       "      <td>0</td>\n",
       "      <td>0</td>\n",
       "      <td>57.0</td>\n",
       "      <td>0.900142</td>\n",
       "    </tr>\n",
       "    <tr>\n",
       "      <th>566</th>\n",
       "      <td>sweing</td>\n",
       "      <td>4</td>\n",
       "      <td>0.80</td>\n",
       "      <td>22.52</td>\n",
       "      <td>23122</td>\n",
       "      <td>5940</td>\n",
       "      <td>50</td>\n",
       "      <td>0</td>\n",
       "      <td>0</td>\n",
       "      <td>0</td>\n",
       "      <td>56.5</td>\n",
       "      <td>0.800393</td>\n",
       "    </tr>\n",
       "    <tr>\n",
       "      <th>569</th>\n",
       "      <td>sweing</td>\n",
       "      <td>6</td>\n",
       "      <td>0.70</td>\n",
       "      <td>18.79</td>\n",
       "      <td>2984</td>\n",
       "      <td>3960</td>\n",
       "      <td>30</td>\n",
       "      <td>0</td>\n",
       "      <td>0</td>\n",
       "      <td>0</td>\n",
       "      <td>33.0</td>\n",
       "      <td>0.700355</td>\n",
       "    </tr>\n",
       "    <tr>\n",
       "      <th>574</th>\n",
       "      <td>sweing</td>\n",
       "      <td>9</td>\n",
       "      <td>0.75</td>\n",
       "      <td>29.12</td>\n",
       "      <td>8992</td>\n",
       "      <td>6960</td>\n",
       "      <td>55</td>\n",
       "      <td>0</td>\n",
       "      <td>0</td>\n",
       "      <td>0</td>\n",
       "      <td>58.0</td>\n",
       "      <td>0.799963</td>\n",
       "    </tr>\n",
       "    <tr>\n",
       "      <th>576</th>\n",
       "      <td>sweing</td>\n",
       "      <td>10</td>\n",
       "      <td>0.80</td>\n",
       "      <td>22.52</td>\n",
       "      <td>21540</td>\n",
       "      <td>6720</td>\n",
       "      <td>88</td>\n",
       "      <td>0</td>\n",
       "      <td>0</td>\n",
       "      <td>0</td>\n",
       "      <td>56.0</td>\n",
       "      <td>0.900130</td>\n",
       "    </tr>\n",
       "    <tr>\n",
       "      <th>577</th>\n",
       "      <td>sweing</td>\n",
       "      <td>11</td>\n",
       "      <td>0.70</td>\n",
       "      <td>20.55</td>\n",
       "      <td>9792</td>\n",
       "      <td>6480</td>\n",
       "      <td>60</td>\n",
       "      <td>0</td>\n",
       "      <td>0</td>\n",
       "      <td>0</td>\n",
       "      <td>54.0</td>\n",
       "      <td>0.700398</td>\n",
       "    </tr>\n",
       "    <tr>\n",
       "      <th>579</th>\n",
       "      <td>sweing</td>\n",
       "      <td>12</td>\n",
       "      <td>0.80</td>\n",
       "      <td>15.26</td>\n",
       "      <td>12261</td>\n",
       "      <td>3600</td>\n",
       "      <td>63</td>\n",
       "      <td>0</td>\n",
       "      <td>0</td>\n",
       "      <td>0</td>\n",
       "      <td>35.0</td>\n",
       "      <td>0.800402</td>\n",
       "    </tr>\n",
       "  </tbody>\n",
       "</table>\n",
       "</div>"
      ],
      "text/plain": [
       "    DEPARTMENT  TEAM  TARGETED_PRODUCTIVITY    SMV    WIP  OVER_TIME  \\\n",
       "562     sweing     1                   0.80  22.94  16882       7020   \n",
       "563     sweing     2                   0.80  22.52  21385       7020   \n",
       "564     sweing     3                   0.80  22.52  21266       6840   \n",
       "566     sweing     4                   0.80  22.52  23122       5940   \n",
       "569     sweing     6                   0.70  18.79   2984       3960   \n",
       "574     sweing     9                   0.75  29.12   8992       6960   \n",
       "576     sweing    10                   0.80  22.52  21540       6720   \n",
       "577     sweing    11                   0.70  20.55   9792       6480   \n",
       "579     sweing    12                   0.80  15.26  12261       3600   \n",
       "\n",
       "     INCENTIVE  IDLE_TIME  IDLE_MEN  NO_OF_STYLE_CHANGE  NO_OF_WORKERS  \\\n",
       "562        113          0         0                   0           58.5   \n",
       "563         88          0         0                   0           58.5   \n",
       "564         70          0         0                   0           57.0   \n",
       "566         50          0         0                   0           56.5   \n",
       "569         30          0         0                   0           33.0   \n",
       "574         55          0         0                   0           58.0   \n",
       "576         88          0         0                   0           56.0   \n",
       "577         60          0         0                   0           54.0   \n",
       "579         63          0         0                   0           35.0   \n",
       "\n",
       "     ACTUAL_PRODUCTIVITY  \n",
       "562             1.000602  \n",
       "563             0.900158  \n",
       "564             0.900142  \n",
       "566             0.800393  \n",
       "569             0.700355  \n",
       "574             0.799963  \n",
       "576             0.900130  \n",
       "577             0.700398  \n",
       "579             0.800402  "
      ]
     },
     "execution_count": 116,
     "metadata": {},
     "output_type": "execute_result"
    }
   ],
   "source": [
    "data3[(data3.WIP<lower_limit)|(data3.WIP>upper_limit)]"
   ]
  },
  {
   "cell_type": "code",
   "execution_count": 117,
   "metadata": {},
   "outputs": [
    {
     "data": {
      "text/plain": [
       "(1109, 12)"
      ]
     },
     "execution_count": 117,
     "metadata": {},
     "output_type": "execute_result"
    }
   ],
   "source": [
    "data4 = data3[(data3.WIP>lower_limit)&(data3.WIP<upper_limit)]\n",
    "data4.shape"
   ]
  },
  {
   "cell_type": "markdown",
   "metadata": {},
   "source": [
    "Removemos nuestros outliers para la columna \"OVER_TIME\""
   ]
  },
  {
   "cell_type": "code",
   "execution_count": 118,
   "metadata": {},
   "outputs": [
    {
     "data": {
      "text/plain": [
       "(1440.0, 6900.0)"
      ]
     },
     "execution_count": 118,
     "metadata": {},
     "output_type": "execute_result"
    }
   ],
   "source": [
    "Q1 = data4.OVER_TIME.quantile(0.25)\n",
    "Q3 = data4.OVER_TIME.quantile(0.75)\n",
    "Q1, Q3"
   ]
  },
  {
   "cell_type": "code",
   "execution_count": 119,
   "metadata": {},
   "outputs": [
    {
     "data": {
      "text/plain": [
       "5460.0"
      ]
     },
     "execution_count": 119,
     "metadata": {},
     "output_type": "execute_result"
    }
   ],
   "source": [
    "IQR = Q3 - Q1\n",
    "round(IQR, 4)"
   ]
  },
  {
   "cell_type": "code",
   "execution_count": 120,
   "metadata": {},
   "outputs": [
    {
     "data": {
      "text/plain": [
       "(-6750.0, 15090.0)"
      ]
     },
     "execution_count": 120,
     "metadata": {},
     "output_type": "execute_result"
    }
   ],
   "source": [
    "lower_limit = Q1 - 1.5*IQR\n",
    "upper_limit = Q3 + 1.5*IQR\n",
    "round(lower_limit, 4), round(upper_limit, 4)"
   ]
  },
  {
   "cell_type": "code",
   "execution_count": 121,
   "metadata": {},
   "outputs": [
    {
     "data": {
      "text/html": [
       "<div>\n",
       "<style scoped>\n",
       "    .dataframe tbody tr th:only-of-type {\n",
       "        vertical-align: middle;\n",
       "    }\n",
       "\n",
       "    .dataframe tbody tr th {\n",
       "        vertical-align: top;\n",
       "    }\n",
       "\n",
       "    .dataframe thead th {\n",
       "        text-align: right;\n",
       "    }\n",
       "</style>\n",
       "<table border=\"1\" class=\"dataframe\">\n",
       "  <thead>\n",
       "    <tr style=\"text-align: right;\">\n",
       "      <th></th>\n",
       "      <th>DEPARTMENT</th>\n",
       "      <th>TEAM</th>\n",
       "      <th>TARGETED_PRODUCTIVITY</th>\n",
       "      <th>SMV</th>\n",
       "      <th>WIP</th>\n",
       "      <th>OVER_TIME</th>\n",
       "      <th>INCENTIVE</th>\n",
       "      <th>IDLE_TIME</th>\n",
       "      <th>IDLE_MEN</th>\n",
       "      <th>NO_OF_STYLE_CHANGE</th>\n",
       "      <th>NO_OF_WORKERS</th>\n",
       "      <th>ACTUAL_PRODUCTIVITY</th>\n",
       "    </tr>\n",
       "  </thead>\n",
       "  <tbody>\n",
       "    <tr>\n",
       "      <th>147</th>\n",
       "      <td>sweing</td>\n",
       "      <td>12</td>\n",
       "      <td>0.8</td>\n",
       "      <td>11.61</td>\n",
       "      <td>548</td>\n",
       "      <td>15120</td>\n",
       "      <td>63</td>\n",
       "      <td>0</td>\n",
       "      <td>0</td>\n",
       "      <td>0</td>\n",
       "      <td>31.5</td>\n",
       "      <td>0.800107</td>\n",
       "    </tr>\n",
       "  </tbody>\n",
       "</table>\n",
       "</div>"
      ],
      "text/plain": [
       "    DEPARTMENT  TEAM  TARGETED_PRODUCTIVITY    SMV  WIP  OVER_TIME  INCENTIVE  \\\n",
       "147     sweing    12                    0.8  11.61  548      15120         63   \n",
       "\n",
       "     IDLE_TIME  IDLE_MEN  NO_OF_STYLE_CHANGE  NO_OF_WORKERS  \\\n",
       "147          0         0                   0           31.5   \n",
       "\n",
       "     ACTUAL_PRODUCTIVITY  \n",
       "147             0.800107  "
      ]
     },
     "execution_count": 121,
     "metadata": {},
     "output_type": "execute_result"
    }
   ],
   "source": [
    "data4[(data4.OVER_TIME<lower_limit)|(data4.OVER_TIME>upper_limit)]"
   ]
  },
  {
   "cell_type": "code",
   "execution_count": 122,
   "metadata": {},
   "outputs": [
    {
     "data": {
      "text/plain": [
       "(1108, 12)"
      ]
     },
     "execution_count": 122,
     "metadata": {},
     "output_type": "execute_result"
    }
   ],
   "source": [
    "data5 = data4[(data4.OVER_TIME>lower_limit)&(data4.OVER_TIME<upper_limit)]\n",
    "data5.shape"
   ]
  },
  {
   "cell_type": "markdown",
   "metadata": {},
   "source": [
    "Removemos nuestros outliers para la columna \"INCENTIVE\""
   ]
  },
  {
   "cell_type": "code",
   "execution_count": 126,
   "metadata": {},
   "outputs": [
    {
     "data": {
      "text/plain": [
       "(0.0, 50.0)"
      ]
     },
     "execution_count": 126,
     "metadata": {},
     "output_type": "execute_result"
    }
   ],
   "source": [
    "Q1 = data5.INCENTIVE.quantile(0.25)\n",
    "Q3 = data5.INCENTIVE.quantile(0.75)\n",
    "Q1, Q3"
   ]
  },
  {
   "cell_type": "code",
   "execution_count": 127,
   "metadata": {},
   "outputs": [
    {
     "data": {
      "text/plain": [
       "50.0"
      ]
     },
     "execution_count": 127,
     "metadata": {},
     "output_type": "execute_result"
    }
   ],
   "source": [
    "IQR = Q3 - Q1\n",
    "round(IQR, 4)"
   ]
  },
  {
   "cell_type": "code",
   "execution_count": 128,
   "metadata": {},
   "outputs": [
    {
     "data": {
      "text/plain": [
       "(-75.0, 125.0)"
      ]
     },
     "execution_count": 128,
     "metadata": {},
     "output_type": "execute_result"
    }
   ],
   "source": [
    "lower_limit = Q1 - 1.5*IQR\n",
    "upper_limit = Q3 + 1.5*IQR\n",
    "round(lower_limit, 4), round(upper_limit, 4)"
   ]
  },
  {
   "cell_type": "code",
   "execution_count": 129,
   "metadata": {},
   "outputs": [
    {
     "data": {
      "text/html": [
       "<div>\n",
       "<style scoped>\n",
       "    .dataframe tbody tr th:only-of-type {\n",
       "        vertical-align: middle;\n",
       "    }\n",
       "\n",
       "    .dataframe tbody tr th {\n",
       "        vertical-align: top;\n",
       "    }\n",
       "\n",
       "    .dataframe thead th {\n",
       "        text-align: right;\n",
       "    }\n",
       "</style>\n",
       "<table border=\"1\" class=\"dataframe\">\n",
       "  <thead>\n",
       "    <tr style=\"text-align: right;\">\n",
       "      <th></th>\n",
       "      <th>DEPARTMENT</th>\n",
       "      <th>TEAM</th>\n",
       "      <th>TARGETED_PRODUCTIVITY</th>\n",
       "      <th>SMV</th>\n",
       "      <th>WIP</th>\n",
       "      <th>OVER_TIME</th>\n",
       "      <th>INCENTIVE</th>\n",
       "      <th>IDLE_TIME</th>\n",
       "      <th>IDLE_MEN</th>\n",
       "      <th>NO_OF_STYLE_CHANGE</th>\n",
       "      <th>NO_OF_WORKERS</th>\n",
       "      <th>ACTUAL_PRODUCTIVITY</th>\n",
       "    </tr>\n",
       "  </thead>\n",
       "  <tbody>\n",
       "    <tr>\n",
       "      <th>731</th>\n",
       "      <td>sweing</td>\n",
       "      <td>1</td>\n",
       "      <td>0.80</td>\n",
       "      <td>22.52</td>\n",
       "      <td>1397</td>\n",
       "      <td>0</td>\n",
       "      <td>138</td>\n",
       "      <td>0</td>\n",
       "      <td>0</td>\n",
       "      <td>0</td>\n",
       "      <td>57.0</td>\n",
       "      <td>1.100484</td>\n",
       "    </tr>\n",
       "    <tr>\n",
       "      <th>1128</th>\n",
       "      <td>finishing</td>\n",
       "      <td>1</td>\n",
       "      <td>0.75</td>\n",
       "      <td>3.94</td>\n",
       "      <td>0</td>\n",
       "      <td>0</td>\n",
       "      <td>960</td>\n",
       "      <td>0</td>\n",
       "      <td>0</td>\n",
       "      <td>0</td>\n",
       "      <td>8.0</td>\n",
       "      <td>0.794567</td>\n",
       "    </tr>\n",
       "    <tr>\n",
       "      <th>1130</th>\n",
       "      <td>finishing</td>\n",
       "      <td>2</td>\n",
       "      <td>0.70</td>\n",
       "      <td>3.90</td>\n",
       "      <td>0</td>\n",
       "      <td>0</td>\n",
       "      <td>1200</td>\n",
       "      <td>0</td>\n",
       "      <td>0</td>\n",
       "      <td>0</td>\n",
       "      <td>10.0</td>\n",
       "      <td>0.682500</td>\n",
       "    </tr>\n",
       "    <tr>\n",
       "      <th>1132</th>\n",
       "      <td>finishing</td>\n",
       "      <td>3</td>\n",
       "      <td>0.80</td>\n",
       "      <td>4.60</td>\n",
       "      <td>0</td>\n",
       "      <td>0</td>\n",
       "      <td>1440</td>\n",
       "      <td>0</td>\n",
       "      <td>0</td>\n",
       "      <td>0</td>\n",
       "      <td>12.0</td>\n",
       "      <td>0.795417</td>\n",
       "    </tr>\n",
       "    <tr>\n",
       "      <th>1134</th>\n",
       "      <td>finishing</td>\n",
       "      <td>4</td>\n",
       "      <td>0.75</td>\n",
       "      <td>3.94</td>\n",
       "      <td>0</td>\n",
       "      <td>0</td>\n",
       "      <td>960</td>\n",
       "      <td>0</td>\n",
       "      <td>0</td>\n",
       "      <td>0</td>\n",
       "      <td>8.0</td>\n",
       "      <td>0.795388</td>\n",
       "    </tr>\n",
       "    <tr>\n",
       "      <th>1136</th>\n",
       "      <td>finishing</td>\n",
       "      <td>5</td>\n",
       "      <td>0.60</td>\n",
       "      <td>3.94</td>\n",
       "      <td>0</td>\n",
       "      <td>0</td>\n",
       "      <td>2880</td>\n",
       "      <td>0</td>\n",
       "      <td>0</td>\n",
       "      <td>0</td>\n",
       "      <td>12.0</td>\n",
       "      <td>0.864343</td>\n",
       "    </tr>\n",
       "    <tr>\n",
       "      <th>1140</th>\n",
       "      <td>finishing</td>\n",
       "      <td>8</td>\n",
       "      <td>0.65</td>\n",
       "      <td>3.90</td>\n",
       "      <td>0</td>\n",
       "      <td>0</td>\n",
       "      <td>960</td>\n",
       "      <td>0</td>\n",
       "      <td>0</td>\n",
       "      <td>0</td>\n",
       "      <td>8.0</td>\n",
       "      <td>0.264062</td>\n",
       "    </tr>\n",
       "    <tr>\n",
       "      <th>1142</th>\n",
       "      <td>finishing</td>\n",
       "      <td>9</td>\n",
       "      <td>0.75</td>\n",
       "      <td>2.90</td>\n",
       "      <td>0</td>\n",
       "      <td>0</td>\n",
       "      <td>3600</td>\n",
       "      <td>0</td>\n",
       "      <td>0</td>\n",
       "      <td>0</td>\n",
       "      <td>15.0</td>\n",
       "      <td>0.841000</td>\n",
       "    </tr>\n",
       "    <tr>\n",
       "      <th>1144</th>\n",
       "      <td>finishing</td>\n",
       "      <td>10</td>\n",
       "      <td>0.70</td>\n",
       "      <td>2.90</td>\n",
       "      <td>0</td>\n",
       "      <td>0</td>\n",
       "      <td>960</td>\n",
       "      <td>0</td>\n",
       "      <td>0</td>\n",
       "      <td>0</td>\n",
       "      <td>8.0</td>\n",
       "      <td>0.477292</td>\n",
       "    </tr>\n",
       "    <tr>\n",
       "      <th>1146</th>\n",
       "      <td>finishing</td>\n",
       "      <td>11</td>\n",
       "      <td>0.80</td>\n",
       "      <td>2.90</td>\n",
       "      <td>0</td>\n",
       "      <td>0</td>\n",
       "      <td>960</td>\n",
       "      <td>0</td>\n",
       "      <td>0</td>\n",
       "      <td>0</td>\n",
       "      <td>8.0</td>\n",
       "      <td>0.960625</td>\n",
       "    </tr>\n",
       "    <tr>\n",
       "      <th>1148</th>\n",
       "      <td>finishing</td>\n",
       "      <td>12</td>\n",
       "      <td>0.80</td>\n",
       "      <td>4.60</td>\n",
       "      <td>0</td>\n",
       "      <td>0</td>\n",
       "      <td>1080</td>\n",
       "      <td>0</td>\n",
       "      <td>0</td>\n",
       "      <td>0</td>\n",
       "      <td>9.0</td>\n",
       "      <td>0.902963</td>\n",
       "    </tr>\n",
       "  </tbody>\n",
       "</table>\n",
       "</div>"
      ],
      "text/plain": [
       "     DEPARTMENT  TEAM  TARGETED_PRODUCTIVITY    SMV   WIP  OVER_TIME  \\\n",
       "731      sweing     1                   0.80  22.52  1397          0   \n",
       "1128  finishing     1                   0.75   3.94     0          0   \n",
       "1130  finishing     2                   0.70   3.90     0          0   \n",
       "1132  finishing     3                   0.80   4.60     0          0   \n",
       "1134  finishing     4                   0.75   3.94     0          0   \n",
       "1136  finishing     5                   0.60   3.94     0          0   \n",
       "1140  finishing     8                   0.65   3.90     0          0   \n",
       "1142  finishing     9                   0.75   2.90     0          0   \n",
       "1144  finishing    10                   0.70   2.90     0          0   \n",
       "1146  finishing    11                   0.80   2.90     0          0   \n",
       "1148  finishing    12                   0.80   4.60     0          0   \n",
       "\n",
       "      INCENTIVE  IDLE_TIME  IDLE_MEN  NO_OF_STYLE_CHANGE  NO_OF_WORKERS  \\\n",
       "731         138          0         0                   0           57.0   \n",
       "1128        960          0         0                   0            8.0   \n",
       "1130       1200          0         0                   0           10.0   \n",
       "1132       1440          0         0                   0           12.0   \n",
       "1134        960          0         0                   0            8.0   \n",
       "1136       2880          0         0                   0           12.0   \n",
       "1140        960          0         0                   0            8.0   \n",
       "1142       3600          0         0                   0           15.0   \n",
       "1144        960          0         0                   0            8.0   \n",
       "1146        960          0         0                   0            8.0   \n",
       "1148       1080          0         0                   0            9.0   \n",
       "\n",
       "      ACTUAL_PRODUCTIVITY  \n",
       "731              1.100484  \n",
       "1128             0.794567  \n",
       "1130             0.682500  \n",
       "1132             0.795417  \n",
       "1134             0.795388  \n",
       "1136             0.864343  \n",
       "1140             0.264062  \n",
       "1142             0.841000  \n",
       "1144             0.477292  \n",
       "1146             0.960625  \n",
       "1148             0.902963  "
      ]
     },
     "execution_count": 129,
     "metadata": {},
     "output_type": "execute_result"
    }
   ],
   "source": [
    "data5[(data5.INCENTIVE<lower_limit)|(data5.INCENTIVE>upper_limit)]"
   ]
  },
  {
   "cell_type": "code",
   "execution_count": 130,
   "metadata": {},
   "outputs": [
    {
     "data": {
      "text/plain": [
       "(1097, 12)"
      ]
     },
     "execution_count": 130,
     "metadata": {},
     "output_type": "execute_result"
    }
   ],
   "source": [
    "data6 = data5[(data5.INCENTIVE>lower_limit)&(data5.INCENTIVE<upper_limit)]\n",
    "data6.shape"
   ]
  },
  {
   "cell_type": "code",
   "execution_count": 132,
   "metadata": {},
   "outputs": [],
   "source": [
    "data6.to_csv('Tidy_data.csv', index=False)"
   ]
  }
 ],
 "metadata": {
  "kernelspec": {
   "display_name": "Python 3.10.6 64-bit",
   "language": "python",
   "name": "python3"
  },
  "language_info": {
   "codemirror_mode": {
    "name": "ipython",
    "version": 3
   },
   "file_extension": ".py",
   "mimetype": "text/x-python",
   "name": "python",
   "nbconvert_exporter": "python",
   "pygments_lexer": "ipython3",
   "version": "3.10.6"
  },
  "orig_nbformat": 4,
  "vscode": {
   "interpreter": {
    "hash": "1cbadf7e30f156f4e0b68f4bca81fa70237e67691d6ebe573bb449e31d409fb8"
   }
  }
 },
 "nbformat": 4,
 "nbformat_minor": 2
}
